{
 "cells": [
  {
   "cell_type": "markdown",
   "metadata": {},
   "source": [
    "## Steven Zajac-Descôteaux Workshop 7\n"
   ]
  },
  {
   "cell_type": "markdown",
   "metadata": {
    "colab_type": "text",
    "id": "c8zuAcfM5lDz"
   },
   "source": [
    "# 1. Big-O Theory exercises\n",
    "\n",
    "1. What is the big-O of the following algorithm? Assume `A` is an array of numbers\n",
    "\n",
    "```python\n",
    "def number_in_array(A, num):\n",
    "  for i in range(len(A)):\n",
    "    if A[i] == num:\n",
    "      return True\n",
    "  return False\n",
    "```\n",
    "\n",
    "2. What is the big-O of the following algorithm? Assume `A` and `B` are arrays of numbers of the **same length n**\n",
    "\n",
    "```python\n",
    "def number_in_two_arrays(A, B, num):\n",
    "  arr_len = len(A)\n",
    "  for i in range(arr_len):\n",
    "    if A[i] == num:\n",
    "      return True\n",
    "  for i in range(arr_len):\n",
    "    if B[i] == num:\n",
    "      return True\n",
    "  return False\n",
    "```\n",
    "\n",
    "3. What would be the big-O above if `A` was length `n` and `B` was length `m`?\n",
    "\n",
    "4. What is the big-O of the following algorithm? Assume `A` and `B` are arrays of numbers of the **same length n**\n",
    "\n",
    "```python\n",
    "def number_in_two_arrays(A, B, num):\n",
    "  arr_len = len(A)\n",
    "  for i in range(arr_len):\n",
    "    for j in range(arr_len):\n",
    "    if A[i] == B[j]:\n",
    "      return True\n",
    "  return False\n",
    "```"
   ]
  },
  {
   "cell_type": "code",
   "execution_count": null,
   "metadata": {},
   "outputs": [],
   "source": [
    "#1. O(n)\n",
    "#2. O(2n) --> O(n) \n",
    "#3. O(n + m) -->\n",
    "#4. O(n^2)"
   ]
  },
  {
   "cell_type": "markdown",
   "metadata": {
    "colab_type": "text",
    "id": "4lz1Ha-E_CQ1"
   },
   "source": [
    "# Reverse Sort\n",
    "\n",
    "Rewrite `selection_sort` so that it sorts in **reverse order** instead (biggest element first, smallest last)"
   ]
  },
  {
   "cell_type": "code",
   "execution_count": 50,
   "metadata": {},
   "outputs": [
    {
     "data": {
      "text/plain": [
       "[777, 111, 66.6, 44.4, 22, 5, 4, 3]"
      ]
     },
     "execution_count": 50,
     "metadata": {},
     "output_type": "execute_result"
    }
   ],
   "source": [
    "#Changing both linear_search and solution_sort\n",
    "def linear_search_max(arr):\n",
    "    \"\"\"Finds the index of the maximum element\"\"\"\n",
    "    current_max = arr[0]\n",
    "    current_max_idx = 0\n",
    "    for i in range(len(arr)):\n",
    "        if arr[i] > current_max:\n",
    "            current_max = arr[i]\n",
    "            current_max_idx = i\n",
    "    return current_max_idx\n",
    "\n",
    "def selection_sort_rev(arr):\n",
    "    \"\"\"Selection sort. Reverse order\"\"\" \n",
    "    n_rev_sorted = 0\n",
    "    while n_rev_sorted < len(arr):\n",
    "        max_idx = linear_search_max(arr[n_rev_sorted:]) + n_rev_sorted\n",
    "        to_swap = arr[n_rev_sorted]\n",
    "        arr[n_rev_sorted] = arr[max_idx]\n",
    "        arr[max_idx] = to_swap\n",
    "        n_rev_sorted += 1\n",
    "\n",
    "arr = [111,4,3,22,5,44.4,66.6,777]\n",
    "selection_sort_rev(arr)\n",
    "arr"
   ]
  },
  {
   "cell_type": "code",
   "execution_count": 49,
   "metadata": {
    "scrolled": true
   },
   "outputs": [
    {
     "data": {
      "text/plain": [
       "[777, 111, 66.6, 44.4, 22, 5, 4, 3]"
      ]
     },
     "execution_count": 49,
     "metadata": {},
     "output_type": "execute_result"
    }
   ],
   "source": [
    "#Changing selection_sort only\n",
    "import numpy as np\n",
    "\n",
    "def linear_search(arr):\n",
    "    \"\"\"\n",
    "    Find the index of the minimum element\n",
    "    AKA argsort\n",
    "    \"\"\"\n",
    "    current_min = float('inf')\n",
    "    current_min_idx = 0\n",
    "    for i in range(len(arr)):\n",
    "        if arr[i] < current_min:\n",
    "            current_min = arr[i]\n",
    "            current_min_idx = i\n",
    "    return current_min_idx\n",
    "\n",
    "def selection_sort2(arr):\n",
    "    \"\"\"Selection sort\"\"\"\n",
    "    n_sorted = len(arr)\n",
    "    for i in range(n_sorted):\n",
    "        min_idx = linear_search(arr[:n_sorted - i]) #finds list element with lowest value with func\n",
    "        to_swap = arr[n_sorted - i - 1] #Swap w/ largest val & go backwards, need -1 to keep index in range\n",
    "        arr[n_sorted - i - 1] = arr[min_idx]#sorts items from lowest to largest val\n",
    "        arr[min_idx] = to_swap #places the element in the list starting from the END of the list.\n",
    "\n",
    "#Personal note-understand what is happening here more clearly#\n",
    "        \n",
    "arr = [111,4,3,22,5,44.4,66.6,777]\n",
    "selection_sort2(arr)\n",
    "arr"
   ]
  },
  {
   "cell_type": "markdown",
   "metadata": {
    "colab": {},
    "colab_type": "code",
    "id": "kLzOQr8tAAIG"
   },
   "source": [
    "# Two sum (Brute Force)\n",
    "\n",
    "Two sum. Given an array and a number N, return True if there are numbers A, B in the array such that A + B = N. Otherwise, return False.\n",
    "\n",
    "```\n",
    "two_sum([1, 2, 3, 4], 5) ⇒ True\n",
    "two_sum([3, 4, 6], 6) ⇒ False\n",
    "```\n",
    "\n",
    "Write a brute force $O(n^2)$ algorithm"
   ]
  },
  {
   "cell_type": "code",
   "execution_count": 51,
   "metadata": {},
   "outputs": [
    {
     "name": "stdout",
     "output_type": "stream",
     "text": [
      "True\n",
      "False\n",
      "True\n"
     ]
    }
   ],
   "source": [
    "def two_sum_brute(arr, N):\n",
    "    \"\"\"\n",
    "    Given an array and a number N\n",
    "    return True if there are numbers A,B\n",
    "    in the array that sum to N\n",
    "    \"\"\"\n",
    "    for A in range(len(arr)):\n",
    "        for B in range(len(arr)):\n",
    "            if arr[A] + arr[B] == N and A != B: #need to ensure that we aren't adding the same number twice\n",
    "                return True\n",
    "    return False #indented with first for loop!\n",
    "    \n",
    "print(two_sum_brute([1, 2, 3, 4], 5))\n",
    "print(two_sum_brute([3, 4, 6], 6))\n",
    "print(two_sum_brute([2,3,4], 7))"
   ]
  },
  {
   "cell_type": "markdown",
   "metadata": {},
   "source": [
    "# Two Sum (Fast Version)\n",
    "\n",
    "Write a linear time version $O(N)$ for the two sum problem"
   ]
  },
  {
   "cell_type": "code",
   "execution_count": 52,
   "metadata": {},
   "outputs": [
    {
     "name": "stdout",
     "output_type": "stream",
     "text": [
      "True\n",
      "False\n",
      "True\n"
     ]
    }
   ],
   "source": [
    "#Use hashing\n",
    "#http://web.stanford.edu/class/cs9/sample_probs/TwoSum.pdf\n",
    "#https://www.educative.io/edpresso/how-to-implement-the-two-sum-problem-in-python\n",
    "\n",
    "def two_sum_fast(arr, N):\n",
    "    \n",
    "    target = {}\n",
    "    \n",
    "    for i in range(len(arr)):\n",
    "        complement = N - arr[i]\n",
    "        if complement in target:\n",
    "            return True\n",
    "        target[arr[i]] = arr[i]\n",
    "    return False\n",
    "       \n",
    "print(two_sum_fast([1,2,3,4], 5))\n",
    "print(two_sum_brute([3, 4, 6], 6))\n",
    "print(two_sum_brute([2,3,4], 7))"
   ]
  },
  {
   "cell_type": "markdown",
   "metadata": {},
   "source": [
    "# Two Sum (itertools version)\n",
    "\n",
    "Use `itertools.combinations` to write a $O(N)$ algorithm for two sum"
   ]
  },
  {
   "cell_type": "code",
   "execution_count": 53,
   "metadata": {},
   "outputs": [
    {
     "name": "stdout",
     "output_type": "stream",
     "text": [
      "True\n",
      "False\n",
      "True\n"
     ]
    }
   ],
   "source": [
    "from itertools import combinations\n",
    "\n",
    "def two_sum_iter(arr, N):\n",
    "    x = list(combinations(arr, 2))\n",
    "    for i in x:\n",
    "        if sum(i) == N:\n",
    "            return True\n",
    "    return False\n",
    "    \n",
    "    \n",
    "print(two_sum_iter([1,2,3,4], 5))\n",
    "print(two_sum_brute([3, 4, 6], 6))\n",
    "print(two_sum_brute([2,3,4], 7))"
   ]
  },
  {
   "cell_type": "code",
   "execution_count": 54,
   "metadata": {},
   "outputs": [
    {
     "name": "stdout",
     "output_type": "stream",
     "text": [
      "True\n",
      "False\n",
      "True\n"
     ]
    }
   ],
   "source": [
    "from itertools import combinations\n",
    "\n",
    "def two_sum_iter(arr, N):\n",
    "    x = [sum(i) for i in list(combinations(arr,2))]\n",
    "    if N in x:\n",
    "        return True\n",
    "    return False\n",
    "\n",
    "print(two_sum_iter([1,2,3,4], 5))\n",
    "print(two_sum_brute([3, 4, 6], 6))\n",
    "print(two_sum_brute([2,3,4], 7))"
   ]
  },
  {
   "cell_type": "markdown",
   "metadata": {},
   "source": [
    "# Linked Lists\n",
    "\n",
    "Unlike a regular array, a [Linked List](https://en.wikipedia.org/wiki/Linked_list) is a container where inserting a new element somewhere in the middle is $O(1)$. \n",
    "\n",
    "For a regular array inserting an element in the middle is $O(N)$, because we need to \"shift back\" all the elements after it. In practice, we might also have to allocate new memory to fit in the element.\n",
    "\n",
    "A linked list is a series of elements, `Node(value, next)` which work as follows:\n",
    "\n",
    "- The `value` field is the element value -- python object at that place in the list (like elements in a python `list`)\n",
    "\n",
    "- The `next` field points to the next element in the linked list. In python holding a reference to the element does this (the same way a python list holds references to objects)\n",
    "\n",
    "### Exercise\n",
    "\n",
    "Implement the `Node` Class as described above then initialize a list with 5 elements `(3 -> 'cat' -> 'dog' -> 55 -> 56)`"
   ]
  },
  {
   "cell_type": "code",
   "execution_count": 55,
   "metadata": {
    "scrolled": true
   },
   "outputs": [
    {
     "name": "stdout",
     "output_type": "stream",
     "text": [
      "3 ----> cat ----> dog ----> 55 ----> 56 ----> bird ----> "
     ]
    }
   ],
   "source": [
    "#2 CLASSES ONE NODE ONE LINKED LIST?\n",
    "\n",
    "class Node():\n",
    "    \n",
    "    def __init__(self, value, next_=None): #Default val of None\n",
    "        self.value = value\n",
    "        self.next_ = next_\n",
    "        \n",
    "    def set_next(self, next_):\n",
    "        self.next_ = next_\n",
    "        \n",
    "class LinkedList():\n",
    "    \n",
    "    def __init__(self, node):\n",
    "        self.head = node\n",
    "        self.node_lst = []\n",
    "        \n",
    "    def print_lst(self):\n",
    "        show = self.head\n",
    "        while show is not None:\n",
    "            print(f\"{show.value} ---->\", end=\" \")\n",
    "            show = show.next_\n",
    "            \n",
    "    def add(self, *el):\n",
    "        self.node_lst.extend(el)\n",
    "\n",
    "\n",
    "element1 = Node('3')\n",
    "element2 = Node('cat')\n",
    "element3 = Node('dog')\n",
    "element4 = Node('55')\n",
    "element5 = Node('56')\n",
    "element6 = Node('bird')\n",
    "\n",
    "element1.set_next(element2)\n",
    "element2.set_next(element3)\n",
    "element3.set_next(element4)\n",
    "element4.set_next(element5)\n",
    "element5.set_next(element6)\n",
    "\n",
    "pet_lst = LinkedList(element1)\n",
    "\n",
    "\n",
    "pet_lst.add(element2, element3, element4, element5, element6)\n",
    "pet_lst.print_lst()       \n",
    "    "
   ]
  },
  {
   "cell_type": "markdown",
   "metadata": {},
   "source": [
    "# Reversing a linked list\n",
    "\n",
    "Write a $O(N)$ function `reverse_ll` that reverses all the pointers in a linked list:\n",
    "\n",
    "```\n",
    "(a -> b -> c) ⇒ (c -> b -> a)\n",
    "```\n",
    "\n",
    "Note: You don't have to reverse their order in the python tuple/list if that's where you're holding them. Just reverse their `Node` pointers to each other"
   ]
  },
  {
   "cell_type": "code",
   "execution_count": 56,
   "metadata": {},
   "outputs": [
    {
     "name": "stdout",
     "output_type": "stream",
     "text": [
      "bird ---> 56 ---> 55 ---> dog ---> cat ---> 3 ---> "
     ]
    }
   ],
   "source": [
    "#2 CLASSES ONE NODE ONE LINKED LIST?\n",
    "#https://www.geeksforgeeks.org/reverse-a-linked-list/\n",
    "\n",
    "class Node():\n",
    "    \n",
    "    def __init__(self, value, next_=None): #Default val of None\n",
    "        self.value = value\n",
    "        self.next_ = next_\n",
    "        \n",
    "    def set_next(self, next_):\n",
    "        self.next_ = next_\n",
    "        \n",
    "class LinkedList():\n",
    "    \n",
    "    def __init__(self, node):\n",
    "        self.head = node\n",
    "        self.node_lst = []\n",
    "        \n",
    "    def print_lst(self):\n",
    "        show = self.head\n",
    "        while show is not None:\n",
    "            print(f\"{show.value} --->\", end=\" \")\n",
    "            show = show.next_\n",
    "            \n",
    "    def add(self, *el):\n",
    "        self.node_lst.extend(el)\n",
    "\n",
    "    def reverse_ll(self):\n",
    "        \"\"\"Reverses a linked list\"\"\"\n",
    "        prev = None\n",
    "        current = self.head\n",
    "        while current is not None:\n",
    "            next_ = current.next_\n",
    "            current.next_ = prev\n",
    "            prev = current\n",
    "            current = next_\n",
    "        self.head = prev\n",
    "               \n",
    "\n",
    "element1 = Node('3')\n",
    "element2 = Node('cat')\n",
    "element3 = Node('dog')\n",
    "element4 = Node('55')\n",
    "element5 = Node('56')\n",
    "element6 = Node('bird')\n",
    "\n",
    "element1.set_next(element2)\n",
    "element2.set_next(element3)\n",
    "element3.set_next(element4)\n",
    "element4.set_next(element5)\n",
    "element5.set_next(element6)\n",
    "\n",
    "pet_lst = LinkedList(element1)\n",
    "\n",
    "\n",
    "pet_lst.add(element2, element3, element4, element5, element6)\n",
    "pet_lst.reverse_ll()\n",
    "pet_lst.print_lst()\n",
    "    "
   ]
  }
 ],
 "metadata": {
  "colab": {
   "authorship_tag": "ABX9TyOATH9BoLFARMvG0o+Vj9NT",
   "collapsed_sections": [],
   "name": "Algorithms 1 Workshop.ipynb",
   "provenance": []
  },
  "kernelspec": {
   "display_name": "Python 3",
   "language": "python",
   "name": "python3"
  },
  "language_info": {
   "codemirror_mode": {
    "name": "ipython",
    "version": 3
   },
   "file_extension": ".py",
   "mimetype": "text/x-python",
   "name": "python",
   "nbconvert_exporter": "python",
   "pygments_lexer": "ipython3",
   "version": "3.8.3"
  }
 },
 "nbformat": 4,
 "nbformat_minor": 1
}
